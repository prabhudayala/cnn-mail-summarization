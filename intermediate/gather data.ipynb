{
 "cells": [
  {
   "cell_type": "code",
   "execution_count": 1,
   "id": "2435dfc8",
   "metadata": {},
   "outputs": [],
   "source": [
    "from tqdm import tqdm"
   ]
  },
  {
   "cell_type": "code",
   "execution_count": 2,
   "id": "a12fc7a6",
   "metadata": {},
   "outputs": [
    {
     "name": "stderr",
     "output_type": "stream",
     "text": [
      "100%|███████████████████████████████████████████████████████████████████████████| 92569/92569 [13:58<00:00, 110.42it/s]\n"
     ]
    }
   ],
   "source": [
    "list_of_input = []\n",
    "list_of_output = []\n",
    "import os\n",
    "for i in enumerate(tqdm(os.listdir(r'dataset\\stories_text_summarization_dataset_train'))):\n",
    "    with open(r'dataset\\stories_text_summarization_dataset_train'+'\\\\'+i[1],encoding='utf-8') as f:\n",
    "        data = f.read()\n",
    "        data = data.split('@highlight')\n",
    "        list_of_input.append(data[0].replace('\\n',' ').replace('  ',' '))\n",
    "        string = \"\"\n",
    "        for j in data[1:]:\n",
    "            string+=j.replace('\\n','')+\". \"\n",
    "        list_of_output.append(string)"
   ]
  },
  {
   "cell_type": "code",
   "execution_count": 3,
   "id": "9c2f3988",
   "metadata": {},
   "outputs": [
    {
     "data": {
      "text/plain": [
       "'It\\'s official: U.S. President Barack Obama wants lawmakers to weigh in on whether to use military force in Syria. Obama sent a letter to the heads of the House and Senate on Saturday night, hours after announcing that he believes military action against Syrian targets is the right step to take over the alleged use of chemical weapons. The proposed legislation from Obama asks Congress to approve the use of military force \"to deter, disrupt, prevent and degrade the potential for future uses of chemical weapons or other weapons of mass destruction.\" It\\'s a step that is set to turn an international crisis into a fierce domestic political battle. There are key questions looming over the debate: What did U.N. weapons inspectors find in Syria? What happens if Congress votes no? And how will the Syrian government react? In a televised address from the White House Rose Garden earlier Saturday, the president said he would take his case to Congress, not because he has to -- but because he wants to. \"While I believe I have the authority to carry out this military action without specific congressional authorization, I know that the country will be stronger if we take this course, and our actions will be even more effective,\" he said. \"We should have this debate, because the issues are too big for business as usual.\" Obama said top congressional leaders had agreed to schedule a debate when the body returns to Washington on September 9. The Senate Foreign Relations Committee will hold a hearing over the matter on Tuesday, Sen. Robert Menendez said. Transcript: Read Obama\\'s full remarks Syrian crisis: Latest developments U.N. inspectors leave Syria Obama\\'s remarks came shortly after U.N. inspectors left Syria, carrying evidence that will determine whether chemical weapons were used in an attack early last week in a Damascus suburb. \"The aim of the game here, the mandate, is very clear -- and that is to ascertain whether chemical weapons were used -- and not by whom,\" U.N. spokesman Martin Nesirky told reporters on Saturday. But who used the weapons in the reported toxic gas attack in a Damascus suburb on August 21 has been a key point of global debate over the Syrian crisis. Top U.S. officials have said there\\'s no doubt that the Syrian government was behind it, while Syrian officials have denied responsibility and blamed jihadists fighting with the rebels. British and U.S. intelligence reports say the attack involved chemical weapons, but U.N. officials have stressed the importance of waiting for an official report from inspectors. The inspectors will share their findings with U.N. Secretary-General Ban Ki-moon Ban, who has said he wants to wait until the U.N. team\\'s final report is completed before presenting it to the U.N. Security Council. The Organization for the Prohibition of Chemical Weapons, which nine of the inspectors belong to, said Saturday that it could take up to three weeks to analyze the evidence they collected. \"It needs time to be able to analyze the information and the samples,\" Nesirky said. He noted that Ban has repeatedly said there is no alternative to a political solution to the crisis in Syria, and that \"a military solution is not an option.\" Bergen: Syria is a problem from hell for the U.S. Obama: \\'This menace must be confronted\\' Obama\\'s senior advisers have debated the next steps to take, and the president\\'s comments Saturday came amid mounting political pressure over the situation in Syria. Some U.S. lawmakers have called for immediate action while others warn of stepping into what could become a quagmire. Some global leaders have expressed support, but the British Parliament\\'s vote against military action earlier this week was a blow to Obama\\'s hopes of getting strong backing from key NATO allies. On Saturday, Obama proposed what he said would be a limited military action against Syrian President Bashar al-Assad. Any military attack would not be open-ended or include U.S. ground forces, he said. Syria\\'s alleged use of chemical weapons earlier this month \"is an assault on human dignity,\" the president said. A failure to respond with force, Obama argued, \"could lead to escalating use of chemical weapons or their proliferation to terrorist groups who would do our people harm. In a world with many dangers, this menace must be confronted.\" Syria missile strike: What would happen next? Map: U.S. and allied assets around Syria Obama decision came Friday night On Friday night, the president made a last-minute decision to consult lawmakers. What will happen if they vote no? It\\'s unclear. A senior administration official told CNN that Obama has the authority to act without Congress -- even if Congress rejects his request for authorization to use force. Obama on Saturday continued to shore up support for a strike on the al-Assad government. He spoke by phone with French President Francois Hollande before his Rose Garden speech. \"The two leaders agreed that the international community must deliver a resolute message to the Assad regime -- and others who would consider using chemical weapons -- that these crimes are unacceptable and those who violate this international norm will be held accountable by the world,\" the White House said. Meanwhile, as uncertainty loomed over how Congress would weigh in, U.S. military officials said they remained at the ready. 5 key assertions: U.S. intelligence report on Syria Syria: Who wants what after chemical weapons horror Reactions mixed to Obama\\'s speech A spokesman for the Syrian National Coalition said that the opposition group was disappointed by Obama\\'s announcement. \"Our fear now is that the lack of action could embolden the regime and they repeat his attacks in a more serious way,\" said spokesman Louay Safi. \"So we are quite concerned.\" Some members of Congress applauded Obama\\'s decision. House Speaker John Boehner, Majority Leader Eric Cantor, Majority Whip Kevin McCarthy and Conference Chair Cathy McMorris Rodgers issued a statement Saturday praising the president. \"Under the Constitution, the responsibility to declare war lies with Congress,\" the Republican lawmakers said. \"We are glad the president is seeking authorization for any military action in Syria in response to serious, substantive questions being raised.\" More than 160 legislators, including 63 of Obama\\'s fellow Democrats, had signed letters calling for either a vote or at least a \"full debate\" before any U.S. action. British Prime Minister David Cameron, whose own attempt to get lawmakers in his country to support military action in Syria failed earlier this week, responded to Obama\\'s speech in a Twitter post Saturday. \"I understand and support Barack Obama\\'s position on Syria,\" Cameron said. An influential lawmaker in Russia -- which has stood by Syria and criticized the United States -- had his own theory. \"The main reason Obama is turning to the Congress: the military operation did not get enough support either in the world, among allies of the US or in the United States itself,\" Alexei Pushkov, chairman of the international-affairs committee of the Russian State Duma, said in a Twitter post. In the United States, scattered groups of anti-war protesters around the country took to the streets Saturday. \"Like many other Americans...we\\'re just tired of the United States getting involved and invading and bombing other countries,\" said Robin Rosecrans, who was among hundreds at a Los Angeles demonstration. What do Syria\\'s neighbors think? Why Russia, China, Iran stand by Assad Syria\\'s government unfazed After Obama\\'s speech, a military and political analyst on Syrian state TV said Obama is \"embarrassed\" that Russia opposes military action against Syria, is \"crying for help\" for someone to come to his rescue and is facing two defeats -- on the political and military levels. Syria\\'s prime minister appeared unfazed by the saber-rattling. \"The Syrian Army\\'s status is on maximum readiness and fingers are on the trigger to confront all challenges,\" Wael Nader al-Halqi said during a meeting with a delegation of Syrian expatriates from Italy, according to a banner on Syria State TV that was broadcast prior to Obama\\'s address. An anchor on Syrian state television said Obama \"appeared to be preparing for an aggression on Syria based on repeated lies.\" A top Syrian diplomat told the state television network that Obama was facing pressure to take military action from Israel, Turkey, some Arabs and right-wing extremists in the United States. \"I think he has done well by doing what Cameron did in terms of taking the issue to Parliament,\" said Bashar Jaafari, Syria\\'s ambassador to the United Nations. Both Obama and Cameron, he said, \"climbed to the top of the tree and don\\'t know how to get down.\" The Syrian government has denied that it used chemical weapons in the August 21 attack, saying that jihadists fighting with the rebels used them in an effort to turn global sentiments against it. British intelligence had put the number of people killed in the attack at more than 350. On Saturday, Obama said \"all told, well over 1,000 people were murdered.\" U.S. Secretary of State John Kerry on Friday cited a death toll of 1,429, more than 400 of them children. No explanation was offered for the discrepancy. Iran: U.S. military action in Syria would spark \\'disaster\\' Opinion: Why strikes in Syria are a bad idea '"
      ]
     },
     "execution_count": 3,
     "metadata": {},
     "output_type": "execute_result"
    }
   ],
   "source": [
    "list_of_input[0]"
   ]
  },
  {
   "cell_type": "code",
   "execution_count": 4,
   "id": "81d17073",
   "metadata": {},
   "outputs": [
    {
     "data": {
      "text/plain": [
       "'Syrian official: Obama climbed to the top of the tree, \"doesn\\'t know how to get down\". Obama sends a letter to the heads of the House and Senate. Obama to seek congressional approval on military action against Syria. Aim is to determine whether CW were used, not by whom, says U.N. spokesman. '"
      ]
     },
     "execution_count": 4,
     "metadata": {},
     "output_type": "execute_result"
    }
   ],
   "source": [
    "list_of_output[0]"
   ]
  },
  {
   "cell_type": "code",
   "execution_count": 5,
   "id": "53e6dd8f",
   "metadata": {},
   "outputs": [],
   "source": [
    "import pandas as pd\n",
    "data = pd.DataFrame(list_of_input,columns=['text'])\n",
    "data['ctext'] = list_of_output"
   ]
  },
  {
   "cell_type": "code",
   "execution_count": 6,
   "id": "2989c0bc",
   "metadata": {},
   "outputs": [
    {
     "data": {
      "text/html": [
       "<div>\n",
       "<style scoped>\n",
       "    .dataframe tbody tr th:only-of-type {\n",
       "        vertical-align: middle;\n",
       "    }\n",
       "\n",
       "    .dataframe tbody tr th {\n",
       "        vertical-align: top;\n",
       "    }\n",
       "\n",
       "    .dataframe thead th {\n",
       "        text-align: right;\n",
       "    }\n",
       "</style>\n",
       "<table border=\"1\" class=\"dataframe\">\n",
       "  <thead>\n",
       "    <tr style=\"text-align: right;\">\n",
       "      <th></th>\n",
       "      <th>text</th>\n",
       "      <th>ctext</th>\n",
       "    </tr>\n",
       "  </thead>\n",
       "  <tbody>\n",
       "    <tr>\n",
       "      <th>0</th>\n",
       "      <td>It's official: U.S. President Barack Obama wan...</td>\n",
       "      <td>Syrian official: Obama climbed to the top of t...</td>\n",
       "    </tr>\n",
       "    <tr>\n",
       "      <th>1</th>\n",
       "      <td>(CNN) -- Usain Bolt rounded off the world cham...</td>\n",
       "      <td>Usain Bolt wins third gold of world championsh...</td>\n",
       "    </tr>\n",
       "    <tr>\n",
       "      <th>2</th>\n",
       "      <td>Kansas City, Missouri (CNN) -- The General Ser...</td>\n",
       "      <td>The employee in agency's Kansas City office is...</td>\n",
       "    </tr>\n",
       "    <tr>\n",
       "      <th>3</th>\n",
       "      <td>Los Angeles (CNN) -- A medical doctor in Vanco...</td>\n",
       "      <td>NEW: A Canadian doctor says she was part of a ...</td>\n",
       "    </tr>\n",
       "    <tr>\n",
       "      <th>4</th>\n",
       "      <td>(CNN) -- Police arrested another teen Thursday...</td>\n",
       "      <td>Another arrest made in gang rape outside Calif...</td>\n",
       "    </tr>\n",
       "    <tr>\n",
       "      <th>...</th>\n",
       "      <td>...</td>\n",
       "      <td>...</td>\n",
       "    </tr>\n",
       "    <tr>\n",
       "      <th>92564</th>\n",
       "      <td>Washington (CNN) -- A second grand jury's deci...</td>\n",
       "      <td>NEW Speaker Boehner said American people deser...</td>\n",
       "    </tr>\n",
       "    <tr>\n",
       "      <th>92565</th>\n",
       "      <td>Los Angeles (CNN) -- California Gov. Jerry Bro...</td>\n",
       "      <td>Gov. Jerry Brown will seek a stay of what he c...</td>\n",
       "    </tr>\n",
       "    <tr>\n",
       "      <th>92566</th>\n",
       "      <td>Norfolk, Virginia (CNN)The second mate of the ...</td>\n",
       "      <td>Father: \"I know he went through what he went t...</td>\n",
       "    </tr>\n",
       "    <tr>\n",
       "      <th>92567</th>\n",
       "      <td>(RealSimple.com) -- Tired of counting sheep? T...</td>\n",
       "      <td>Fragrances that make you feel calm, such as la...</td>\n",
       "    </tr>\n",
       "    <tr>\n",
       "      <th>92568</th>\n",
       "      <td>(CNN Student News) -- September 23, 2010 Downl...</td>\n",
       "      <td>Find out how the U.N. General Assembly can imp...</td>\n",
       "    </tr>\n",
       "  </tbody>\n",
       "</table>\n",
       "<p>92569 rows × 2 columns</p>\n",
       "</div>"
      ],
      "text/plain": [
       "                                                    text  \\\n",
       "0      It's official: U.S. President Barack Obama wan...   \n",
       "1      (CNN) -- Usain Bolt rounded off the world cham...   \n",
       "2      Kansas City, Missouri (CNN) -- The General Ser...   \n",
       "3      Los Angeles (CNN) -- A medical doctor in Vanco...   \n",
       "4      (CNN) -- Police arrested another teen Thursday...   \n",
       "...                                                  ...   \n",
       "92564  Washington (CNN) -- A second grand jury's deci...   \n",
       "92565  Los Angeles (CNN) -- California Gov. Jerry Bro...   \n",
       "92566  Norfolk, Virginia (CNN)The second mate of the ...   \n",
       "92567  (RealSimple.com) -- Tired of counting sheep? T...   \n",
       "92568  (CNN Student News) -- September 23, 2010 Downl...   \n",
       "\n",
       "                                                   ctext  \n",
       "0      Syrian official: Obama climbed to the top of t...  \n",
       "1      Usain Bolt wins third gold of world championsh...  \n",
       "2      The employee in agency's Kansas City office is...  \n",
       "3      NEW: A Canadian doctor says she was part of a ...  \n",
       "4      Another arrest made in gang rape outside Calif...  \n",
       "...                                                  ...  \n",
       "92564  NEW Speaker Boehner said American people deser...  \n",
       "92565  Gov. Jerry Brown will seek a stay of what he c...  \n",
       "92566  Father: \"I know he went through what he went t...  \n",
       "92567  Fragrances that make you feel calm, such as la...  \n",
       "92568  Find out how the U.N. General Assembly can imp...  \n",
       "\n",
       "[92569 rows x 2 columns]"
      ]
     },
     "execution_count": 6,
     "metadata": {},
     "output_type": "execute_result"
    }
   ],
   "source": [
    "data"
   ]
  },
  {
   "cell_type": "code",
   "execution_count": 7,
   "id": "a03a338d",
   "metadata": {},
   "outputs": [],
   "source": [
    "import re\n",
    "def text_strip(row):\n",
    "    row = re.sub(\"(\\\\t)\", \" \", str(row)).lower()\n",
    "    row = re.sub(\"(\\\\r)\", \" \", str(row)).lower()\n",
    "    row = re.sub(\"(\\\\n)\", \" \", str(row)).lower()\n",
    "\n",
    "    # Remove _ if it occurs more than one time consecutively\n",
    "    row = re.sub(\"(__+)\", \" \", str(row)).lower()\n",
    "\n",
    "    # Remove - if it occurs more than one time consecutively\n",
    "    row = re.sub(\"(--+)\", \" \", str(row)).lower()\n",
    "\n",
    "    # Remove ~ if it occurs more than one time consecutively\n",
    "    row = re.sub(\"(~~+)\", \" \", str(row)).lower()\n",
    "\n",
    "    # Remove + if it occurs more than one time consecutively\n",
    "    row = re.sub(\"(\\+\\++)\", \" \", str(row)).lower()\n",
    "\n",
    "    # Remove . if it occurs more than one time consecutively\n",
    "    row = re.sub(\"(\\.\\.+)\", \" \", str(row)).lower()\n",
    "\n",
    "    # Remove the characters - <>()|&©ø\"',;?~*!\n",
    "    row = re.sub(r\"[<>()|&©ø\\[\\]\\'\\\",;?~*!]\", \" \", str(row)).lower()\n",
    "\n",
    "    # Remove mailto:\n",
    "    row = re.sub(\"(mailto:)\", \" \", str(row)).lower()\n",
    "\n",
    "    # Remove \\x9* in text\n",
    "    row = re.sub(r\"(\\\\x9\\d)\", \" \", str(row)).lower()\n",
    "\n",
    "    # Replace INC nums to INC_NUM\n",
    "    row = re.sub(\"([iI][nN][cC]\\d+)\", \"INC_NUM\", str(row)).lower()\n",
    "\n",
    "    # Replace CM# and CHG# to CM_NUM\n",
    "    row = re.sub(\"([cC][mM]\\d+)|([cC][hH][gG]\\d+)\", \"CM_NUM\", str(row)).lower()\n",
    "\n",
    "    # Remove punctuations at the end of a word\n",
    "#     row = re.sub(\"(\\.\\s+)\", \" \", str(row)).lower()\n",
    "    row = re.sub(\"(\\-\\s+)\", \" \", str(row)).lower()\n",
    "    row = re.sub(\"(\\:\\s+)\", \" \", str(row)).lower()\n",
    "\n",
    "    # Replace any url to only the domain name\n",
    "    try:\n",
    "        url = re.search(r\"((https*:\\/*)([^\\/\\s]+))(.[^\\s]+)\", str(row))\n",
    "        repl_url = url.group(3)\n",
    "        row = re.sub(r\"((https*:\\/*)([^\\/\\s]+))(.[^\\s]+)\", repl_url, str(row))\n",
    "    except:\n",
    "        pass\n",
    "\n",
    "    # Remove multiple spaces\n",
    "    row = re.sub(\"(\\s+)\", \" \", str(row)).lower()\n",
    "\n",
    "    # Remove the single character hanging between any two spaces\n",
    "    row = re.sub(\"(\\s+.\\s+)\", \" \", str(row)).lower()\n",
    "    return row"
   ]
  },
  {
   "cell_type": "code",
   "execution_count": 8,
   "id": "cdfbdb49",
   "metadata": {},
   "outputs": [],
   "source": [
    "data['text'] = data['text'].apply(text_strip)\n",
    "data['ctext'] = data['ctext'].apply(text_strip)"
   ]
  },
  {
   "cell_type": "code",
   "execution_count": 9,
   "id": "1d226a22",
   "metadata": {},
   "outputs": [],
   "source": [
    "data.to_csv('data.csv',index=False)"
   ]
  },
  {
   "cell_type": "code",
   "execution_count": 10,
   "id": "bb50e607",
   "metadata": {},
   "outputs": [
    {
     "data": {
      "text/html": [
       "<div>\n",
       "<style scoped>\n",
       "    .dataframe tbody tr th:only-of-type {\n",
       "        vertical-align: middle;\n",
       "    }\n",
       "\n",
       "    .dataframe tbody tr th {\n",
       "        vertical-align: top;\n",
       "    }\n",
       "\n",
       "    .dataframe thead th {\n",
       "        text-align: right;\n",
       "    }\n",
       "</style>\n",
       "<table border=\"1\" class=\"dataframe\">\n",
       "  <thead>\n",
       "    <tr style=\"text-align: right;\">\n",
       "      <th></th>\n",
       "      <th>text</th>\n",
       "      <th>ctext</th>\n",
       "    </tr>\n",
       "  </thead>\n",
       "  <tbody>\n",
       "    <tr>\n",
       "      <th>0</th>\n",
       "      <td>it official u.s. president barack obama wants ...</td>\n",
       "      <td>syrian official obama climbed to the top of th...</td>\n",
       "    </tr>\n",
       "    <tr>\n",
       "      <th>1</th>\n",
       "      <td>cnn usain bolt rounded off the world champion...</td>\n",
       "      <td>usain bolt wins third gold of world championsh...</td>\n",
       "    </tr>\n",
       "    <tr>\n",
       "      <th>2</th>\n",
       "      <td>kansas city missouri cnn the general services ...</td>\n",
       "      <td>the employee in agency kansas city office is a...</td>\n",
       "    </tr>\n",
       "    <tr>\n",
       "      <th>3</th>\n",
       "      <td>los angeles cnn medical doctor in vancouver br...</td>\n",
       "      <td>new canadian doctor says she was part of team ...</td>\n",
       "    </tr>\n",
       "    <tr>\n",
       "      <th>4</th>\n",
       "      <td>cnn police arrested another teen thursday the...</td>\n",
       "      <td>another arrest made in gang rape outside calif...</td>\n",
       "    </tr>\n",
       "    <tr>\n",
       "      <th>...</th>\n",
       "      <td>...</td>\n",
       "      <td>...</td>\n",
       "    </tr>\n",
       "    <tr>\n",
       "      <th>92564</th>\n",
       "      <td>washington cnn second grand jury decision not ...</td>\n",
       "      <td>new speaker boehner said american people deser...</td>\n",
       "    </tr>\n",
       "    <tr>\n",
       "      <th>92565</th>\n",
       "      <td>los angeles cnn california gov. jerry brown wi...</td>\n",
       "      <td>gov. jerry brown will seek stay of what he cal...</td>\n",
       "    </tr>\n",
       "    <tr>\n",
       "      <th>92566</th>\n",
       "      <td>norfolk virginia cnn the second mate of the ho...</td>\n",
       "      <td>father know he went through what he went throu...</td>\n",
       "    </tr>\n",
       "    <tr>\n",
       "      <th>92567</th>\n",
       "      <td>realsimple.com tired of counting sheep try on...</td>\n",
       "      <td>fragrances that make you feel calm such as lav...</td>\n",
       "    </tr>\n",
       "    <tr>\n",
       "      <th>92568</th>\n",
       "      <td>cnn student news september 23 2010 download p...</td>\n",
       "      <td>find out how the u.n. general assembly can imp...</td>\n",
       "    </tr>\n",
       "  </tbody>\n",
       "</table>\n",
       "<p>92569 rows × 2 columns</p>\n",
       "</div>"
      ],
      "text/plain": [
       "                                                    text  \\\n",
       "0      it official u.s. president barack obama wants ...   \n",
       "1       cnn usain bolt rounded off the world champion...   \n",
       "2      kansas city missouri cnn the general services ...   \n",
       "3      los angeles cnn medical doctor in vancouver br...   \n",
       "4       cnn police arrested another teen thursday the...   \n",
       "...                                                  ...   \n",
       "92564  washington cnn second grand jury decision not ...   \n",
       "92565  los angeles cnn california gov. jerry brown wi...   \n",
       "92566  norfolk virginia cnn the second mate of the ho...   \n",
       "92567   realsimple.com tired of counting sheep try on...   \n",
       "92568   cnn student news september 23 2010 download p...   \n",
       "\n",
       "                                                   ctext  \n",
       "0      syrian official obama climbed to the top of th...  \n",
       "1      usain bolt wins third gold of world championsh...  \n",
       "2      the employee in agency kansas city office is a...  \n",
       "3      new canadian doctor says she was part of team ...  \n",
       "4      another arrest made in gang rape outside calif...  \n",
       "...                                                  ...  \n",
       "92564  new speaker boehner said american people deser...  \n",
       "92565  gov. jerry brown will seek stay of what he cal...  \n",
       "92566  father know he went through what he went throu...  \n",
       "92567  fragrances that make you feel calm such as lav...  \n",
       "92568  find out how the u.n. general assembly can imp...  \n",
       "\n",
       "[92569 rows x 2 columns]"
      ]
     },
     "execution_count": 10,
     "metadata": {},
     "output_type": "execute_result"
    }
   ],
   "source": [
    "data"
   ]
  },
  {
   "cell_type": "code",
   "execution_count": null,
   "id": "7a49db65",
   "metadata": {},
   "outputs": [],
   "source": []
  }
 ],
 "metadata": {
  "kernelspec": {
   "display_name": "Python 3",
   "language": "python",
   "name": "python3"
  },
  "language_info": {
   "codemirror_mode": {
    "name": "ipython",
    "version": 3
   },
   "file_extension": ".py",
   "mimetype": "text/x-python",
   "name": "python",
   "nbconvert_exporter": "python",
   "pygments_lexer": "ipython3",
   "version": "3.7.10"
  }
 },
 "nbformat": 4,
 "nbformat_minor": 5
}
