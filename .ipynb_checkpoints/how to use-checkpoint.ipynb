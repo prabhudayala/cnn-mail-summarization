{
 "cells": [
  {
   "cell_type": "code",
   "execution_count": null,
   "id": "19ef8ca0",
   "metadata": {},
   "outputs": [],
   "source": [
    "import run"
   ]
  },
  {
   "cell_type": "code",
   "execution_count": null,
   "id": "3be73cec",
   "metadata": {},
   "outputs": [],
   "source": [
    "run.format_and_process_data()\n",
    "run.train_abstractive()\n",
    "print(\"Abstractive summary is:\\n\", run.predict_abstactive_summary('sample.txt'))\n",
    "run.train_extractive()\n",
    "print(\"Extractive summary is:\\n\", run.predict_extractive_summary('sample.txt'))"
   ]
  },
  {
   "cell_type": "code",
   "execution_count": null,
   "id": "d5eb72bc",
   "metadata": {},
   "outputs": [],
   "source": []
  }
 ],
 "metadata": {
  "kernelspec": {
   "display_name": "Python 3",
   "language": "python",
   "name": "python3"
  },
  "language_info": {
   "codemirror_mode": {
    "name": "ipython",
    "version": 3
   },
   "file_extension": ".py",
   "mimetype": "text/x-python",
   "name": "python",
   "nbconvert_exporter": "python",
   "pygments_lexer": "ipython3",
   "version": "3.7.10"
  }
 },
 "nbformat": 4,
 "nbformat_minor": 5
}
