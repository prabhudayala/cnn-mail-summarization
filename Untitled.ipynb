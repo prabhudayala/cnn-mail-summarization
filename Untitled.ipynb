{
 "cells": [
  {
   "cell_type": "code",
   "execution_count": 1,
   "id": "19ef8ca0",
   "metadata": {},
   "outputs": [
    {
     "name": "stderr",
     "output_type": "stream",
     "text": [
      "C:\\Users\\user\\Anaconda3\\envs\\hugging_face\\lib\\site-packages\\torchaudio\\backend\\utils.py:67: UserWarning: No audio backend is available.\n",
      "  warnings.warn('No audio backend is available.')\n"
     ]
    }
   ],
   "source": [
    "import run"
   ]
  },
  {
   "cell_type": "code",
   "execution_count": 2,
   "id": "3be73cec",
   "metadata": {},
   "outputs": [
    {
     "name": "stdout",
     "output_type": "stream",
     "text": [
      "Extractive summary is:\n",
      " [' the main thing is to bring attention to them to showcase their creativity to the world so they get more global recognition for what they do and more appreciations for their brands as well', ' the other thing is the spin-off in terms of your own image in terms of our audience back in south africa the fact that you can say that you did african fashion week it promotes you and helps your product to gain integrity', ' profile boost but despite the growing interest in african designs ademiluyi says that many of the continent promising talents still find it difficult to break into the mainstream international shows', ' they don have support from anywhere so what we do is we support them it an affordable platform for the designers to showcase their talents to the world', ' the clients don know where to get their brand so we hope to support the designers lot more by opening up distribution outlet']\n"
     ]
    }
   ],
   "source": [
    "run.format_and_process_data()\n",
    "run.train_abstractive()\n",
    "print(\"Abstractive summary is:\\n\", run.predict_abstactive_summary('sample.txt'))\n",
    "run.train_extractive()\n",
    "print(\"Extractive summary is:\\n\", run.predict_extractive_summary('sample.txt'))"
   ]
  },
  {
   "cell_type": "code",
   "execution_count": null,
   "id": "d5eb72bc",
   "metadata": {},
   "outputs": [],
   "source": []
  }
 ],
 "metadata": {
  "kernelspec": {
   "display_name": "Python 3",
   "language": "python",
   "name": "python3"
  },
  "language_info": {
   "codemirror_mode": {
    "name": "ipython",
    "version": 3
   },
   "file_extension": ".py",
   "mimetype": "text/x-python",
   "name": "python",
   "nbconvert_exporter": "python",
   "pygments_lexer": "ipython3",
   "version": "3.7.10"
  }
 },
 "nbformat": 4,
 "nbformat_minor": 5
}
